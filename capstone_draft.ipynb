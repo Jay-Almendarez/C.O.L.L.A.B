{
 "cells": [
  {
   "cell_type": "markdown",
   "id": "passive-collect",
   "metadata": {},
   "source": [
    "# **C.O.L.L.A.B.**\n",
    "<hr style=\"border:2px solid black\">"
   ]
  },
  {
   "cell_type": "markdown",
   "id": "typical-anime",
   "metadata": {},
   "source": [
    "## Goal: \n",
    "* \n",
    "* \n",
    "<hr style=\"border:2px solid black\">"
   ]
  },
  {
   "cell_type": "markdown",
   "id": "recognized-insertion",
   "metadata": {},
   "source": [
    "# Imports"
   ]
  },
  {
   "cell_type": "code",
   "execution_count": 1,
   "id": "following-steam",
   "metadata": {},
   "outputs": [],
   "source": [
    "import pandas as pd\n",
    "import numpy as np\n",
    "from wrangle import wrangle"
   ]
  },
  {
   "cell_type": "markdown",
   "id": "further-swimming",
   "metadata": {},
   "source": [
    "<hr style=\"border:2px solid black\">\n",
    "\n",
    "# **Acquire**\n",
    "Plan --> **Acquire** --> Prepare --> Explore --> Model --> Deliver\n",
    "\n",
    "* "
   ]
  },
  {
   "cell_type": "markdown",
   "id": "strategic-steering",
   "metadata": {},
   "source": [
    "<hr style=\"border:2px solid black\">\n",
    "\n",
    "# **Prepare**\n",
    "\n",
    "**Prepare Actions:**\n",
    "* To better estimate family income based on family composition, use the estimates of family count by family type(Married, Single Male with kids, Single Male without kids, Single Female with kids, Single Female without kids) and the estimates of income by family type. e.g. (female_with_kids (income) * female_with_kids (count) + (male_with_kids (income) * male_with_kids (count)))/2\n",
    "* Merge transformed census dataframe (family) on to the cost_of_living dataframe (col) on county.\n",
    "* Adjust for inflation 2020 to 2022"
   ]
  },
  {
   "cell_type": "code",
   "execution_count": 2,
   "id": "e5e354b1-933f-4684-8d0f-0c40b087746b",
   "metadata": {
    "tags": []
   },
   "outputs": [],
   "source": [
    "col_df = wrangle()\n",
    "col_df"
   ]
  },
  {
   "cell_type": "markdown",
   "id": "local-paper",
   "metadata": {},
   "source": [
    "<hr style=\"border:2px solid black\">\n",
    "\n",
    "# **Explore**\n",
    "Plan --> Acquire --> Prepare --> **Explore** --> Model --> Deliver"
   ]
  },
  {
   "cell_type": "code",
   "execution_count": 5,
   "id": "964f484f-8e15-44d6-bd62-1aee042696f8",
   "metadata": {
    "tags": []
   },
   "outputs": [],
   "source": [
    "from sklearn.model_selection import train_test_split\n",
    "\n",
    "\n",
    "import scipy.stats as stats\n",
    "\n",
    "import matplotlib.pyplot as plt\n",
    "from matplotlib import cm\n",
    "import seaborn as sns\n",
    "from sklearn.model_selection import learning_curve"
   ]
  },
  {
   "cell_type": "code",
   "execution_count": 4,
   "id": "1d19ab6d-7f74-4438-94e0-33ffa66b4d6a",
   "metadata": {
    "tags": []
   },
   "outputs": [
    {
     "data": {
      "text/html": [
       "<div>\n",
       "<style scoped>\n",
       "    .dataframe tbody tr th:only-of-type {\n",
       "        vertical-align: middle;\n",
       "    }\n",
       "\n",
       "    .dataframe tbody tr th {\n",
       "        vertical-align: top;\n",
       "    }\n",
       "\n",
       "    .dataframe thead th {\n",
       "        text-align: right;\n",
       "    }\n",
       "</style>\n",
       "<table border=\"1\" class=\"dataframe\">\n",
       "  <thead>\n",
       "    <tr style=\"text-align: right;\">\n",
       "      <th></th>\n",
       "      <th>isMetro</th>\n",
       "      <th>county</th>\n",
       "      <th>family_member_count</th>\n",
       "      <th>housing_cost</th>\n",
       "      <th>food_cost</th>\n",
       "      <th>transportation_cost</th>\n",
       "      <th>healthcare_cost</th>\n",
       "      <th>other_necessities_cost</th>\n",
       "      <th>childcare_cost</th>\n",
       "      <th>taxes</th>\n",
       "      <th>total_cost</th>\n",
       "      <th>median_family_income</th>\n",
       "    </tr>\n",
       "  </thead>\n",
       "  <tbody>\n",
       "    <tr>\n",
       "      <th>0</th>\n",
       "      <td>True</td>\n",
       "      <td>baldwin_county_al</td>\n",
       "      <td>1p0c</td>\n",
       "      <td>9389.7168</td>\n",
       "      <td>4047.838517</td>\n",
       "      <td>11695.354960</td>\n",
       "      <td>6095.774330</td>\n",
       "      <td>4868.955912</td>\n",
       "      <td>0.000000</td>\n",
       "      <td>7035.438338</td>\n",
       "      <td>43133.079117</td>\n",
       "      <td>68231.0</td>\n",
       "    </tr>\n",
       "    <tr>\n",
       "      <th>1</th>\n",
       "      <td>True</td>\n",
       "      <td>baldwin_county_al</td>\n",
       "      <td>1p1c</td>\n",
       "      <td>12057.5472</td>\n",
       "      <td>5965.530719</td>\n",
       "      <td>12557.698312</td>\n",
       "      <td>9202.278698</td>\n",
       "      <td>6530.472054</td>\n",
       "      <td>6498.165935</td>\n",
       "      <td>7733.884575</td>\n",
       "      <td>60545.577885</td>\n",
       "      <td>40290.0</td>\n",
       "    </tr>\n",
       "    <tr>\n",
       "      <th>2</th>\n",
       "      <td>True</td>\n",
       "      <td>baldwin_county_al</td>\n",
       "      <td>1p2c</td>\n",
       "      <td>12057.5472</td>\n",
       "      <td>8740.499095</td>\n",
       "      <td>14025.001501</td>\n",
       "      <td>12308.782543</td>\n",
       "      <td>7535.951830</td>\n",
       "      <td>16726.467488</td>\n",
       "      <td>10328.728236</td>\n",
       "      <td>81722.976455</td>\n",
       "      <td>40290.0</td>\n",
       "    </tr>\n",
       "    <tr>\n",
       "      <th>3</th>\n",
       "      <td>True</td>\n",
       "      <td>baldwin_county_al</td>\n",
       "      <td>1p3c</td>\n",
       "      <td>16333.9224</td>\n",
       "      <td>11660.210479</td>\n",
       "      <td>14661.041039</td>\n",
       "      <td>15415.287696</td>\n",
       "      <td>10143.378103</td>\n",
       "      <td>19873.636392</td>\n",
       "      <td>14165.050827</td>\n",
       "      <td>102252.529029</td>\n",
       "      <td>40290.0</td>\n",
       "    </tr>\n",
       "    <tr>\n",
       "      <th>4</th>\n",
       "      <td>True</td>\n",
       "      <td>baldwin_county_al</td>\n",
       "      <td>1p4c</td>\n",
       "      <td>16333.9224</td>\n",
       "      <td>14272.886101</td>\n",
       "      <td>15010.201189</td>\n",
       "      <td>18521.791802</td>\n",
       "      <td>11090.053013</td>\n",
       "      <td>19873.636392</td>\n",
       "      <td>14639.854019</td>\n",
       "      <td>109742.341255</td>\n",
       "      <td>40290.0</td>\n",
       "    </tr>\n",
       "    <tr>\n",
       "      <th>...</th>\n",
       "      <td>...</td>\n",
       "      <td>...</td>\n",
       "      <td>...</td>\n",
       "      <td>...</td>\n",
       "      <td>...</td>\n",
       "      <td>...</td>\n",
       "      <td>...</td>\n",
       "      <td>...</td>\n",
       "      <td>...</td>\n",
       "      <td>...</td>\n",
       "      <td>...</td>\n",
       "      <td>...</td>\n",
       "    </tr>\n",
       "    <tr>\n",
       "      <th>8239</th>\n",
       "      <td>True</td>\n",
       "      <td>natrona_county_wy</td>\n",
       "      <td>2p0c</td>\n",
       "      <td>9638.1912</td>\n",
       "      <td>6488.226044</td>\n",
       "      <td>14376.812481</td>\n",
       "      <td>15580.609484</td>\n",
       "      <td>5843.237112</td>\n",
       "      <td>0.000000</td>\n",
       "      <td>6989.922143</td>\n",
       "      <td>58917.002125</td>\n",
       "      <td>94332.0</td>\n",
       "    </tr>\n",
       "    <tr>\n",
       "      <th>8240</th>\n",
       "      <td>True</td>\n",
       "      <td>natrona_county_wy</td>\n",
       "      <td>2p1c</td>\n",
       "      <td>11351.3568</td>\n",
       "      <td>8075.250345</td>\n",
       "      <td>15391.147754</td>\n",
       "      <td>19470.673688</td>\n",
       "      <td>7039.026177</td>\n",
       "      <td>10371.704499</td>\n",
       "      <td>8266.780036</td>\n",
       "      <td>79965.942045</td>\n",
       "      <td>103027.0</td>\n",
       "    </tr>\n",
       "    <tr>\n",
       "      <th>8241</th>\n",
       "      <td>True</td>\n",
       "      <td>natrona_county_wy</td>\n",
       "      <td>2p2c</td>\n",
       "      <td>11351.3568</td>\n",
       "      <td>10227.130977</td>\n",
       "      <td>16148.126321</td>\n",
       "      <td>23360.737891</td>\n",
       "      <td>7818.736621</td>\n",
       "      <td>22325.355529</td>\n",
       "      <td>9461.575727</td>\n",
       "      <td>100693.018690</td>\n",
       "      <td>103027.0</td>\n",
       "    </tr>\n",
       "    <tr>\n",
       "      <th>8242</th>\n",
       "      <td>True</td>\n",
       "      <td>natrona_county_wy</td>\n",
       "      <td>2p3c</td>\n",
       "      <td>16242.3792</td>\n",
       "      <td>12486.549760</td>\n",
       "      <td>16629.456544</td>\n",
       "      <td>27250.803403</td>\n",
       "      <td>10409.624308</td>\n",
       "      <td>26003.401758</td>\n",
       "      <td>11935.089207</td>\n",
       "      <td>120957.302610</td>\n",
       "      <td>103027.0</td>\n",
       "    </tr>\n",
       "    <tr>\n",
       "      <th>8243</th>\n",
       "      <td>True</td>\n",
       "      <td>natrona_county_wy</td>\n",
       "      <td>2p4c</td>\n",
       "      <td>16242.3792</td>\n",
       "      <td>15280.545260</td>\n",
       "      <td>17578.904689</td>\n",
       "      <td>31140.868914</td>\n",
       "      <td>11421.997680</td>\n",
       "      <td>26003.401758</td>\n",
       "      <td>12107.644216</td>\n",
       "      <td>129775.742763</td>\n",
       "      <td>103027.0</td>\n",
       "    </tr>\n",
       "  </tbody>\n",
       "</table>\n",
       "<p>8230 rows × 12 columns</p>\n",
       "</div>"
      ],
      "text/plain": [
       "     isMetro             county family_member_count  housing_cost  \\\n",
       "0       True  baldwin_county_al                1p0c     9389.7168   \n",
       "1       True  baldwin_county_al                1p1c    12057.5472   \n",
       "2       True  baldwin_county_al                1p2c    12057.5472   \n",
       "3       True  baldwin_county_al                1p3c    16333.9224   \n",
       "4       True  baldwin_county_al                1p4c    16333.9224   \n",
       "...      ...                ...                 ...           ...   \n",
       "8239    True  natrona_county_wy                2p0c     9638.1912   \n",
       "8240    True  natrona_county_wy                2p1c    11351.3568   \n",
       "8241    True  natrona_county_wy                2p2c    11351.3568   \n",
       "8242    True  natrona_county_wy                2p3c    16242.3792   \n",
       "8243    True  natrona_county_wy                2p4c    16242.3792   \n",
       "\n",
       "         food_cost  transportation_cost  healthcare_cost  \\\n",
       "0      4047.838517         11695.354960      6095.774330   \n",
       "1      5965.530719         12557.698312      9202.278698   \n",
       "2      8740.499095         14025.001501     12308.782543   \n",
       "3     11660.210479         14661.041039     15415.287696   \n",
       "4     14272.886101         15010.201189     18521.791802   \n",
       "...            ...                  ...              ...   \n",
       "8239   6488.226044         14376.812481     15580.609484   \n",
       "8240   8075.250345         15391.147754     19470.673688   \n",
       "8241  10227.130977         16148.126321     23360.737891   \n",
       "8242  12486.549760         16629.456544     27250.803403   \n",
       "8243  15280.545260         17578.904689     31140.868914   \n",
       "\n",
       "      other_necessities_cost  childcare_cost         taxes     total_cost  \\\n",
       "0                4868.955912        0.000000   7035.438338   43133.079117   \n",
       "1                6530.472054     6498.165935   7733.884575   60545.577885   \n",
       "2                7535.951830    16726.467488  10328.728236   81722.976455   \n",
       "3               10143.378103    19873.636392  14165.050827  102252.529029   \n",
       "4               11090.053013    19873.636392  14639.854019  109742.341255   \n",
       "...                      ...             ...           ...            ...   \n",
       "8239             5843.237112        0.000000   6989.922143   58917.002125   \n",
       "8240             7039.026177    10371.704499   8266.780036   79965.942045   \n",
       "8241             7818.736621    22325.355529   9461.575727  100693.018690   \n",
       "8242            10409.624308    26003.401758  11935.089207  120957.302610   \n",
       "8243            11421.997680    26003.401758  12107.644216  129775.742763   \n",
       "\n",
       "      median_family_income  \n",
       "0                  68231.0  \n",
       "1                  40290.0  \n",
       "2                  40290.0  \n",
       "3                  40290.0  \n",
       "4                  40290.0  \n",
       "...                    ...  \n",
       "8239               94332.0  \n",
       "8240              103027.0  \n",
       "8241              103027.0  \n",
       "8242              103027.0  \n",
       "8243              103027.0  \n",
       "\n",
       "[8230 rows x 12 columns]"
      ]
     },
     "execution_count": 4,
     "metadata": {},
     "output_type": "execute_result"
    }
   ],
   "source": [
    "col_df = wrangle()\n",
    "col_df"
   ]
  },
  {
   "cell_type": "code",
   "execution_count": 10,
   "id": "71aedf98-e44e-4c94-bd80-ed488f396f6e",
   "metadata": {
    "tags": []
   },
   "outputs": [],
   "source": [
    "col_df = col_df.rename(columns = {'isMetro': 'is_metro'})"
   ]
  },
  {
   "cell_type": "code",
   "execution_count": 11,
   "id": "aabc2e15-2cfe-4b7c-9866-d74034b827d8",
   "metadata": {
    "tags": []
   },
   "outputs": [],
   "source": [
    "col_df.is_metro = col_df.is_metro.astype(bool)"
   ]
  },
  {
   "cell_type": "code",
   "execution_count": 13,
   "id": "75986cb2-873d-44e5-a665-3b8ec8227ffd",
   "metadata": {
    "tags": []
   },
   "outputs": [
    {
     "data": {
      "text/plain": [
       "is_metro                     bool\n",
       "county                     object\n",
       "family_member_count        object\n",
       "housing_cost              float64\n",
       "food_cost                 float64\n",
       "transportation_cost       float64\n",
       "healthcare_cost           float64\n",
       "other_necessities_cost    float64\n",
       "childcare_cost            float64\n",
       "taxes                     float64\n",
       "total_cost                float64\n",
       "median_family_income      float64\n",
       "dtype: object"
      ]
     },
     "execution_count": 13,
     "metadata": {},
     "output_type": "execute_result"
    }
   ],
   "source": [
    "col_df.dtypes"
   ]
  },
  {
   "cell_type": "code",
   "execution_count": 14,
   "id": "84d838de-180c-49cb-97c2-85ff451df306",
   "metadata": {
    "tags": []
   },
   "outputs": [
    {
     "data": {
      "text/plain": [
       "0       1p0c\n",
       "1       1p1c\n",
       "2       1p2c\n",
       "3       1p3c\n",
       "4       1p4c\n",
       "        ... \n",
       "8239    2p0c\n",
       "8240    2p1c\n",
       "8241    2p2c\n",
       "8242    2p3c\n",
       "8243    2p4c\n",
       "Name: family_member_count, Length: 8230, dtype: object"
      ]
     },
     "execution_count": 14,
     "metadata": {},
     "output_type": "execute_result"
    }
   ],
   "source": [
    "col_df.family_member_count"
   ]
  },
  {
   "cell_type": "markdown",
   "id": "sonic-halifax",
   "metadata": {},
   "source": [
    "<hr style=\"border:2px solid black\">\n",
    "\n",
    "# **Modeling**\n",
    "Plan --> Acquire --> Prepare --> Explore --> **Model** --> Deliver\n"
   ]
  },
  {
   "cell_type": "markdown",
   "id": "ruled-denmark",
   "metadata": {},
   "source": [
    "<hr style=\"border:2px solid black\">\n",
    "\n",
    "# **Comparing Models**\n"
   ]
  },
  {
   "cell_type": "markdown",
   "id": "vocal-screen",
   "metadata": {},
   "source": [
    "<hr style=\"border:2px solid black\">\n",
    "\n",
    "## **Best Model Evaluation on Test**"
   ]
  },
  {
   "cell_type": "markdown",
   "id": "ideal-wallace",
   "metadata": {},
   "source": [
    "### <u>Modeling Summary:</u>\n",
    "\n",
    ">* "
   ]
  },
  {
   "cell_type": "markdown",
   "id": "random-initial",
   "metadata": {},
   "source": [
    "<hr style=\"border:2px solid black\">\n",
    "\n",
    "# **Conclusions**\n"
   ]
  },
  {
   "cell_type": "markdown",
   "id": "romantic-oriental",
   "metadata": {},
   "source": [
    "### <u>Modeling:</u>\n",
    "\n",
    ">**<u>:</u>**\n",
    ">* \n",
    "\n",
    "### <u>Recommendations:</u>\n",
    ">* \n",
    "\n",
    "### <u>Next Steps:</u>\n",
    ">* "
   ]
  },
  {
   "cell_type": "markdown",
   "id": "6e650e04",
   "metadata": {},
   "source": []
  }
 ],
 "metadata": {
  "kernelspec": {
   "display_name": "Python 3 (ipykernel)",
   "language": "python",
   "name": "python3"
  },
  "language_info": {
   "codemirror_mode": {
    "name": "ipython",
    "version": 3
   },
   "file_extension": ".py",
   "mimetype": "text/x-python",
   "name": "python",
   "nbconvert_exporter": "python",
   "pygments_lexer": "ipython3",
   "version": "3.11.3"
  }
 },
 "nbformat": 4,
 "nbformat_minor": 5
}
