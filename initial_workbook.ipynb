{
 "cells": [
  {
   "cell_type": "code",
   "execution_count": 1,
   "id": "ae340a5b-a9be-4c4a-9b3c-d683614b508e",
   "metadata": {
    "tags": []
   },
   "outputs": [],
   "source": [
    "import pandas as pd"
   ]
  },
  {
   "cell_type": "code",
   "execution_count": 2,
   "id": "1e498745-7d42-46ea-81cd-bfe1514aed78",
   "metadata": {
    "tags": []
   },
   "outputs": [],
   "source": [
    "col = pd.read_csv('cost_of_living_us.csv')\n",
    "dem = pd.read_csv('county_demographics.csv')"
   ]
  },
  {
   "cell_type": "code",
   "execution_count": 3,
   "id": "08f90acc-edc9-4f47-aa84-54cf0189c2e2",
   "metadata": {
    "tags": []
   },
   "outputs": [
    {
     "data": {
      "text/plain": [
       "Index(['TX', 'GA', 'VA', 'KY', 'MO', 'KS', 'IL', 'NC', 'IA', 'TN', 'NE', 'IN',\n",
       "       'OH', 'MN', 'MI', 'MS', 'OK', 'AR', 'WI', 'PA', 'AL', 'FL', 'SD', 'CO',\n",
       "       'LA', 'NY', 'CA', 'MT', 'WV', 'ND', 'SC', 'ID', 'WA', 'OR', 'NM', 'AK',\n",
       "       'UT', 'MD', 'WY', 'NJ', 'NV', 'ME', 'AZ', 'VT', 'MA', 'NH', 'CT', 'RI',\n",
       "       'HI', 'DE', 'DC'],\n",
       "      dtype='object', name='state')"
      ]
     },
     "execution_count": 3,
     "metadata": {},
     "output_type": "execute_result"
    }
   ],
   "source": [
    "col.state.value_counts().index"
   ]
  },
  {
   "cell_type": "code",
   "execution_count": 4,
   "id": "267fe98c-895d-4bc9-acd5-61a766c57eca",
   "metadata": {
    "tags": []
   },
   "outputs": [
    {
     "data": {
      "text/plain": [
       "county\n",
       "Washington County        300\n",
       "Jefferson County         250\n",
       "Franklin County          240\n",
       "Lincoln County           230\n",
       "Jackson County           230\n",
       "                        ... \n",
       "Aroostook County          10\n",
       "Androscoggin County       10\n",
       "Winn Parish               10\n",
       "West Feliciana Parish     10\n",
       "Weston County             10\n",
       "Name: count, Length: 1877, dtype: int64"
      ]
     },
     "execution_count": 4,
     "metadata": {},
     "output_type": "execute_result"
    }
   ],
   "source": [
    "col.county.value_counts()"
   ]
  },
  {
   "cell_type": "code",
   "execution_count": 5,
   "id": "73139222-a462-4514-8734-0417c539afc7",
   "metadata": {
    "tags": []
   },
   "outputs": [
    {
     "data": {
      "text/plain": [
       "Index(['case_id', 'state', 'isMetro', 'areaname', 'county',\n",
       "       'family_member_count', 'housing_cost', 'food_cost',\n",
       "       'transportation_cost', 'healthcare_cost', 'other_necessities_cost',\n",
       "       'childcare_cost', 'taxes', 'total_cost', 'median_family_income'],\n",
       "      dtype='object')"
      ]
     },
     "execution_count": 5,
     "metadata": {},
     "output_type": "execute_result"
    }
   ],
   "source": [
    "col.columns"
   ]
  },
  {
   "cell_type": "markdown",
   "id": "5905d4fd-1c11-486c-9fde-b090c61ae800",
   "metadata": {},
   "source": [
    "### Second dataframe to Potentially Merge"
   ]
  },
  {
   "cell_type": "code",
   "execution_count": 6,
   "id": "3951c915-829d-4012-a98e-83e5a8c33d81",
   "metadata": {},
   "outputs": [],
   "source": [
    "family_income = pd.read_csv('B19126.csv')\n",
    "family_count = pd.read_csv('DP02.csv')"
   ]
  },
  {
   "cell_type": "code",
   "execution_count": 7,
   "id": "1b1b524c-95f2-481c-960d-aee1e1ff6578",
   "metadata": {
    "tags": []
   },
   "outputs": [],
   "source": [
    "male = family_count[6:8]\n",
    "female = family_count[10:12]\n",
    "family_count = pd.concat([female, male], ignore_index=True, axis = 0)\n",
    "columns = family_count.columns[2::2]\n",
    "family_count.drop(columns, axis = 1, inplace = True)\n",
    "family_count = family_count.T.rename(columns = {0:'fem_total(count)', 1:'fem_with_kid(count)', 2:'male_total(count)', 3:'male_with_kid(count)'})\n",
    "family_count = family_count.drop(family_count.index[0])"
   ]
  },
  {
   "cell_type": "code",
   "execution_count": 8,
   "id": "94aa0702-0d5a-4612-8880-d5227e28bef4",
   "metadata": {
    "tags": []
   },
   "outputs": [
    {
     "data": {
      "text/html": [
       "<div>\n",
       "<style scoped>\n",
       "    .dataframe tbody tr th:only-of-type {\n",
       "        vertical-align: middle;\n",
       "    }\n",
       "\n",
       "    .dataframe tbody tr th {\n",
       "        vertical-align: top;\n",
       "    }\n",
       "\n",
       "    .dataframe thead th {\n",
       "        text-align: right;\n",
       "    }\n",
       "</style>\n",
       "<table border=\"1\" class=\"dataframe\">\n",
       "  <thead>\n",
       "    <tr style=\"text-align: right;\">\n",
       "      <th></th>\n",
       "      <th>fem_total(count)</th>\n",
       "      <th>fem_with_kid(count)</th>\n",
       "      <th>male_total(count)</th>\n",
       "      <th>male_with_kid(count)</th>\n",
       "    </tr>\n",
       "  </thead>\n",
       "  <tbody>\n",
       "    <tr>\n",
       "      <th>Baldwin County, Alabama!!Estimate</th>\n",
       "      <td>22,981</td>\n",
       "      <td>4,249</td>\n",
       "      <td>13,426</td>\n",
       "      <td>950</td>\n",
       "    </tr>\n",
       "    <tr>\n",
       "      <th>Calhoun County, Alabama!!Estimate</th>\n",
       "      <td>15,956</td>\n",
       "      <td>3,779</td>\n",
       "      <td>9,599</td>\n",
       "      <td>318</td>\n",
       "    </tr>\n",
       "    <tr>\n",
       "      <th>Cullman County, Alabama!!Estimate</th>\n",
       "      <td>8,584</td>\n",
       "      <td>1,402</td>\n",
       "      <td>5,554</td>\n",
       "      <td>500</td>\n",
       "    </tr>\n",
       "    <tr>\n",
       "      <th>DeKalb County, Alabama!!Estimate</th>\n",
       "      <td>8,026</td>\n",
       "      <td>1,343</td>\n",
       "      <td>4,541</td>\n",
       "      <td>362</td>\n",
       "    </tr>\n",
       "    <tr>\n",
       "      <th>Elmore County, Alabama!!Estimate</th>\n",
       "      <td>9,466</td>\n",
       "      <td>2,283</td>\n",
       "      <td>4,373</td>\n",
       "      <td>727</td>\n",
       "    </tr>\n",
       "    <tr>\n",
       "      <th>...</th>\n",
       "      <td>...</td>\n",
       "      <td>...</td>\n",
       "      <td>...</td>\n",
       "      <td>...</td>\n",
       "    </tr>\n",
       "    <tr>\n",
       "      <th>Ponce Municipio, Puerto Rico!!Estimate</th>\n",
       "      <td>NaN</td>\n",
       "      <td>NaN</td>\n",
       "      <td>NaN</td>\n",
       "      <td>NaN</td>\n",
       "    </tr>\n",
       "    <tr>\n",
       "      <th>San Juan Municipio, Puerto Rico!!Estimate</th>\n",
       "      <td>NaN</td>\n",
       "      <td>NaN</td>\n",
       "      <td>NaN</td>\n",
       "      <td>NaN</td>\n",
       "    </tr>\n",
       "    <tr>\n",
       "      <th>Toa Alta Municipio, Puerto Rico!!Estimate</th>\n",
       "      <td>NaN</td>\n",
       "      <td>NaN</td>\n",
       "      <td>NaN</td>\n",
       "      <td>NaN</td>\n",
       "    </tr>\n",
       "    <tr>\n",
       "      <th>Toa Baja Municipio, Puerto Rico!!Estimate</th>\n",
       "      <td>NaN</td>\n",
       "      <td>NaN</td>\n",
       "      <td>NaN</td>\n",
       "      <td>NaN</td>\n",
       "    </tr>\n",
       "    <tr>\n",
       "      <th>Trujillo Alto Municipio, Puerto Rico!!Estimate</th>\n",
       "      <td>NaN</td>\n",
       "      <td>NaN</td>\n",
       "      <td>NaN</td>\n",
       "      <td>NaN</td>\n",
       "    </tr>\n",
       "  </tbody>\n",
       "</table>\n",
       "<p>848 rows × 4 columns</p>\n",
       "</div>"
      ],
      "text/plain": [
       "                                               fem_total(count)  \\\n",
       "Baldwin County, Alabama!!Estimate                        22,981   \n",
       "Calhoun County, Alabama!!Estimate                        15,956   \n",
       "Cullman County, Alabama!!Estimate                         8,584   \n",
       "DeKalb County, Alabama!!Estimate                          8,026   \n",
       "Elmore County, Alabama!!Estimate                          9,466   \n",
       "...                                                         ...   \n",
       "Ponce Municipio, Puerto Rico!!Estimate                      NaN   \n",
       "San Juan Municipio, Puerto Rico!!Estimate                   NaN   \n",
       "Toa Alta Municipio, Puerto Rico!!Estimate                   NaN   \n",
       "Toa Baja Municipio, Puerto Rico!!Estimate                   NaN   \n",
       "Trujillo Alto Municipio, Puerto Rico!!Estimate              NaN   \n",
       "\n",
       "                                               fem_with_kid(count)  \\\n",
       "Baldwin County, Alabama!!Estimate                            4,249   \n",
       "Calhoun County, Alabama!!Estimate                            3,779   \n",
       "Cullman County, Alabama!!Estimate                            1,402   \n",
       "DeKalb County, Alabama!!Estimate                             1,343   \n",
       "Elmore County, Alabama!!Estimate                             2,283   \n",
       "...                                                            ...   \n",
       "Ponce Municipio, Puerto Rico!!Estimate                         NaN   \n",
       "San Juan Municipio, Puerto Rico!!Estimate                      NaN   \n",
       "Toa Alta Municipio, Puerto Rico!!Estimate                      NaN   \n",
       "Toa Baja Municipio, Puerto Rico!!Estimate                      NaN   \n",
       "Trujillo Alto Municipio, Puerto Rico!!Estimate                 NaN   \n",
       "\n",
       "                                               male_total(count)  \\\n",
       "Baldwin County, Alabama!!Estimate                         13,426   \n",
       "Calhoun County, Alabama!!Estimate                          9,599   \n",
       "Cullman County, Alabama!!Estimate                          5,554   \n",
       "DeKalb County, Alabama!!Estimate                           4,541   \n",
       "Elmore County, Alabama!!Estimate                           4,373   \n",
       "...                                                          ...   \n",
       "Ponce Municipio, Puerto Rico!!Estimate                       NaN   \n",
       "San Juan Municipio, Puerto Rico!!Estimate                    NaN   \n",
       "Toa Alta Municipio, Puerto Rico!!Estimate                    NaN   \n",
       "Toa Baja Municipio, Puerto Rico!!Estimate                    NaN   \n",
       "Trujillo Alto Municipio, Puerto Rico!!Estimate               NaN   \n",
       "\n",
       "                                               male_with_kid(count)  \n",
       "Baldwin County, Alabama!!Estimate                               950  \n",
       "Calhoun County, Alabama!!Estimate                               318  \n",
       "Cullman County, Alabama!!Estimate                               500  \n",
       "DeKalb County, Alabama!!Estimate                                362  \n",
       "Elmore County, Alabama!!Estimate                                727  \n",
       "...                                                             ...  \n",
       "Ponce Municipio, Puerto Rico!!Estimate                          NaN  \n",
       "San Juan Municipio, Puerto Rico!!Estimate                       NaN  \n",
       "Toa Alta Municipio, Puerto Rico!!Estimate                       NaN  \n",
       "Toa Baja Municipio, Puerto Rico!!Estimate                       NaN  \n",
       "Trujillo Alto Municipio, Puerto Rico!!Estimate                  NaN  \n",
       "\n",
       "[848 rows x 4 columns]"
      ]
     },
     "execution_count": 8,
     "metadata": {},
     "output_type": "execute_result"
    }
   ],
   "source": [
    "family_count"
   ]
  },
  {
   "cell_type": "code",
   "execution_count": 9,
   "id": "b8f2b4e0-7e25-4fdc-b386-c116d7354a43",
   "metadata": {
    "tags": []
   },
   "outputs": [],
   "source": [
    "family_count = family_count.fillna('0')\n",
    "family_count['fem_total(count)'] = family_count['fem_total(count)'].str.replace(',', '').astype(int)\n",
    "family_count['fem_with_kid(count)'] = family_count['fem_with_kid(count)'].str.replace(',', '').astype(int)\n",
    "family_count['male_total(count)'] = family_count['male_total(count)'].str.replace(',', '').astype(int)\n",
    "family_count['male_with_kid(count)'] = family_count['male_with_kid(count)'].str.replace(',', '').astype(int)"
   ]
  },
  {
   "cell_type": "code",
   "execution_count": 10,
   "id": "a00343b2-78bc-43b8-8e70-92c0c6bdd209",
   "metadata": {
    "tags": []
   },
   "outputs": [],
   "source": [
    "# transform strings into floats\n",
    "family_count['fem_no_kid(count)'] = family_count['fem_total(count)'] - family_count['fem_with_kid(count)']\n",
    "family_count['male_no_kid(count)'] = family_count['male_total(count)'] - family_count['male_with_kid(count)']"
   ]
  },
  {
   "cell_type": "code",
   "execution_count": 11,
   "id": "9c49ec27-03b7-4b66-bd2c-afd705cb475a",
   "metadata": {
    "tags": []
   },
   "outputs": [],
   "source": [
    "tot = family_income[4:6]\n",
    "male = family_income[10:12]\n",
    "female = family_income[14:16]\n",
    "family_income = pd.concat([tot, female, male], ignore_index=True, axis = 0)\n",
    "family_income = family_income.T.rename(columns = {0:'mar_with_kid', 1:'mar_no_kid', 2:'fem_with_kid(income)', \n",
    "                                                  3:'fem_no_kid(income)', 4:'male_with_kid(income)', 5:'male_no_kid(income)'})\n",
    "family_income = family_income.drop(family_income.index[0])"
   ]
  },
  {
   "cell_type": "code",
   "execution_count": 12,
   "id": "15452031-56fb-4d53-a2c0-d96895c94fe9",
   "metadata": {
    "tags": []
   },
   "outputs": [
    {
     "data": {
      "text/html": [
       "<div>\n",
       "<style scoped>\n",
       "    .dataframe tbody tr th:only-of-type {\n",
       "        vertical-align: middle;\n",
       "    }\n",
       "\n",
       "    .dataframe tbody tr th {\n",
       "        vertical-align: top;\n",
       "    }\n",
       "\n",
       "    .dataframe thead th {\n",
       "        text-align: right;\n",
       "    }\n",
       "</style>\n",
       "<table border=\"1\" class=\"dataframe\">\n",
       "  <thead>\n",
       "    <tr style=\"text-align: right;\">\n",
       "      <th></th>\n",
       "      <th>mar_with_kid</th>\n",
       "      <th>mar_no_kid</th>\n",
       "      <th>fem_with_kid(income)</th>\n",
       "      <th>fem_no_kid(income)</th>\n",
       "      <th>male_with_kid(income)</th>\n",
       "      <th>male_no_kid(income)</th>\n",
       "    </tr>\n",
       "  </thead>\n",
       "  <tbody>\n",
       "    <tr>\n",
       "      <th>Baldwin County, Alabama!!Estimate</th>\n",
       "      <td>106,141</td>\n",
       "      <td>91,016</td>\n",
       "      <td>28,433</td>\n",
       "      <td>51,519</td>\n",
       "      <td>41,238</td>\n",
       "      <td>93,322</td>\n",
       "    </tr>\n",
       "    <tr>\n",
       "      <th>Calhoun County, Alabama!!Estimate</th>\n",
       "      <td>69,568</td>\n",
       "      <td>86,169</td>\n",
       "      <td>29,121</td>\n",
       "      <td>48,318</td>\n",
       "      <td>51,953</td>\n",
       "      <td>74,722</td>\n",
       "    </tr>\n",
       "    <tr>\n",
       "      <th>Cullman County, Alabama!!Estimate</th>\n",
       "      <td>85,096</td>\n",
       "      <td>88,386</td>\n",
       "      <td>21,387</td>\n",
       "      <td>36,857</td>\n",
       "      <td>33,008</td>\n",
       "      <td>91,032</td>\n",
       "    </tr>\n",
       "    <tr>\n",
       "      <th>DeKalb County, Alabama!!Estimate</th>\n",
       "      <td>57,004</td>\n",
       "      <td>75,605</td>\n",
       "      <td>28,830</td>\n",
       "      <td>47,992</td>\n",
       "      <td>40,141</td>\n",
       "      <td>144,039</td>\n",
       "    </tr>\n",
       "    <tr>\n",
       "      <th>Elmore County, Alabama!!Estimate</th>\n",
       "      <td>95,917</td>\n",
       "      <td>101,406</td>\n",
       "      <td>39,276</td>\n",
       "      <td>61,279</td>\n",
       "      <td>81,691</td>\n",
       "      <td>72,352</td>\n",
       "    </tr>\n",
       "    <tr>\n",
       "      <th>...</th>\n",
       "      <td>...</td>\n",
       "      <td>...</td>\n",
       "      <td>...</td>\n",
       "      <td>...</td>\n",
       "      <td>...</td>\n",
       "      <td>...</td>\n",
       "    </tr>\n",
       "    <tr>\n",
       "      <th>Ponce Municipio, Puerto Rico!!Estimate</th>\n",
       "      <td>37,900</td>\n",
       "      <td>27,092</td>\n",
       "      <td>3,513</td>\n",
       "      <td>20,286</td>\n",
       "      <td>20,135</td>\n",
       "      <td>31,092</td>\n",
       "    </tr>\n",
       "    <tr>\n",
       "      <th>San Juan Municipio, Puerto Rico!!Estimate</th>\n",
       "      <td>76,165</td>\n",
       "      <td>52,769</td>\n",
       "      <td>8,564</td>\n",
       "      <td>28,066</td>\n",
       "      <td>24,306</td>\n",
       "      <td>31,557</td>\n",
       "    </tr>\n",
       "    <tr>\n",
       "      <th>Toa Alta Municipio, Puerto Rico!!Estimate</th>\n",
       "      <td>48,214</td>\n",
       "      <td>64,840</td>\n",
       "      <td>19,045</td>\n",
       "      <td>32,256</td>\n",
       "      <td>41,610</td>\n",
       "      <td>82,121</td>\n",
       "    </tr>\n",
       "    <tr>\n",
       "      <th>Toa Baja Municipio, Puerto Rico!!Estimate</th>\n",
       "      <td>65,154</td>\n",
       "      <td>43,236</td>\n",
       "      <td>11,675</td>\n",
       "      <td>35,407</td>\n",
       "      <td>28,286</td>\n",
       "      <td>29,614</td>\n",
       "    </tr>\n",
       "    <tr>\n",
       "      <th>Trujillo Alto Municipio, Puerto Rico!!Estimate</th>\n",
       "      <td>60,125</td>\n",
       "      <td>70,569</td>\n",
       "      <td>26,220</td>\n",
       "      <td>28,153</td>\n",
       "      <td>-</td>\n",
       "      <td>53,817</td>\n",
       "    </tr>\n",
       "  </tbody>\n",
       "</table>\n",
       "<p>848 rows × 6 columns</p>\n",
       "</div>"
      ],
      "text/plain": [
       "                                               mar_with_kid mar_no_kid  \\\n",
       "Baldwin County, Alabama!!Estimate                   106,141     91,016   \n",
       "Calhoun County, Alabama!!Estimate                    69,568     86,169   \n",
       "Cullman County, Alabama!!Estimate                    85,096     88,386   \n",
       "DeKalb County, Alabama!!Estimate                     57,004     75,605   \n",
       "Elmore County, Alabama!!Estimate                     95,917    101,406   \n",
       "...                                                     ...        ...   \n",
       "Ponce Municipio, Puerto Rico!!Estimate               37,900     27,092   \n",
       "San Juan Municipio, Puerto Rico!!Estimate            76,165     52,769   \n",
       "Toa Alta Municipio, Puerto Rico!!Estimate            48,214     64,840   \n",
       "Toa Baja Municipio, Puerto Rico!!Estimate            65,154     43,236   \n",
       "Trujillo Alto Municipio, Puerto Rico!!Estimate       60,125     70,569   \n",
       "\n",
       "                                               fem_with_kid(income)  \\\n",
       "Baldwin County, Alabama!!Estimate                            28,433   \n",
       "Calhoun County, Alabama!!Estimate                            29,121   \n",
       "Cullman County, Alabama!!Estimate                            21,387   \n",
       "DeKalb County, Alabama!!Estimate                             28,830   \n",
       "Elmore County, Alabama!!Estimate                             39,276   \n",
       "...                                                             ...   \n",
       "Ponce Municipio, Puerto Rico!!Estimate                        3,513   \n",
       "San Juan Municipio, Puerto Rico!!Estimate                     8,564   \n",
       "Toa Alta Municipio, Puerto Rico!!Estimate                    19,045   \n",
       "Toa Baja Municipio, Puerto Rico!!Estimate                    11,675   \n",
       "Trujillo Alto Municipio, Puerto Rico!!Estimate               26,220   \n",
       "\n",
       "                                               fem_no_kid(income)  \\\n",
       "Baldwin County, Alabama!!Estimate                          51,519   \n",
       "Calhoun County, Alabama!!Estimate                          48,318   \n",
       "Cullman County, Alabama!!Estimate                          36,857   \n",
       "DeKalb County, Alabama!!Estimate                           47,992   \n",
       "Elmore County, Alabama!!Estimate                           61,279   \n",
       "...                                                           ...   \n",
       "Ponce Municipio, Puerto Rico!!Estimate                     20,286   \n",
       "San Juan Municipio, Puerto Rico!!Estimate                  28,066   \n",
       "Toa Alta Municipio, Puerto Rico!!Estimate                  32,256   \n",
       "Toa Baja Municipio, Puerto Rico!!Estimate                  35,407   \n",
       "Trujillo Alto Municipio, Puerto Rico!!Estimate             28,153   \n",
       "\n",
       "                                               male_with_kid(income)  \\\n",
       "Baldwin County, Alabama!!Estimate                             41,238   \n",
       "Calhoun County, Alabama!!Estimate                             51,953   \n",
       "Cullman County, Alabama!!Estimate                             33,008   \n",
       "DeKalb County, Alabama!!Estimate                              40,141   \n",
       "Elmore County, Alabama!!Estimate                              81,691   \n",
       "...                                                              ...   \n",
       "Ponce Municipio, Puerto Rico!!Estimate                        20,135   \n",
       "San Juan Municipio, Puerto Rico!!Estimate                     24,306   \n",
       "Toa Alta Municipio, Puerto Rico!!Estimate                     41,610   \n",
       "Toa Baja Municipio, Puerto Rico!!Estimate                     28,286   \n",
       "Trujillo Alto Municipio, Puerto Rico!!Estimate                     -   \n",
       "\n",
       "                                               male_no_kid(income)  \n",
       "Baldwin County, Alabama!!Estimate                           93,322  \n",
       "Calhoun County, Alabama!!Estimate                           74,722  \n",
       "Cullman County, Alabama!!Estimate                           91,032  \n",
       "DeKalb County, Alabama!!Estimate                           144,039  \n",
       "Elmore County, Alabama!!Estimate                            72,352  \n",
       "...                                                            ...  \n",
       "Ponce Municipio, Puerto Rico!!Estimate                      31,092  \n",
       "San Juan Municipio, Puerto Rico!!Estimate                   31,557  \n",
       "Toa Alta Municipio, Puerto Rico!!Estimate                   82,121  \n",
       "Toa Baja Municipio, Puerto Rico!!Estimate                   29,614  \n",
       "Trujillo Alto Municipio, Puerto Rico!!Estimate              53,817  \n",
       "\n",
       "[848 rows x 6 columns]"
      ]
     },
     "execution_count": 12,
     "metadata": {},
     "output_type": "execute_result"
    }
   ],
   "source": [
    "family_income"
   ]
  },
  {
   "cell_type": "code",
   "execution_count": 13,
   "id": "f12226c7-bd41-410f-b507-eacb9ab93039",
   "metadata": {
    "tags": []
   },
   "outputs": [
    {
     "data": {
      "text/plain": [
       "mar_with_kid             object\n",
       "mar_no_kid               object\n",
       "fem_with_kid(income)     object\n",
       "fem_no_kid(income)       object\n",
       "male_with_kid(income)    object\n",
       "male_no_kid(income)      object\n",
       "dtype: object"
      ]
     },
     "execution_count": 13,
     "metadata": {},
     "output_type": "execute_result"
    }
   ],
   "source": [
    "family_income.dtypes"
   ]
  },
  {
   "cell_type": "code",
   "execution_count": 14,
   "id": "47f3ce41-6538-4024-bdd1-1ce6fd3dafcf",
   "metadata": {
    "tags": []
   },
   "outputs": [],
   "source": [
    "family_income['mar_with_kid'] = family_income['mar_with_kid'].str.replace('+', '')\n",
    "family_income['male_no_kid(income)'] = family_income['male_no_kid(income)'].str.replace('+', '')\n",
    "family_income['male_no_kid(income)'] = family_income['male_no_kid(income)'].str.replace('-', '')"
   ]
  },
  {
   "cell_type": "code",
   "execution_count": 15,
   "id": "75cc179f-e261-49b7-b3ee-c07439629993",
   "metadata": {
    "tags": []
   },
   "outputs": [
    {
     "ename": "ValueError",
     "evalue": "invalid literal for int() with base 10: ''",
     "output_type": "error",
     "traceback": [
      "\u001b[0;31m---------------------------------------------------------------------------\u001b[0m",
      "\u001b[0;31mValueError\u001b[0m                                Traceback (most recent call last)",
      "Cell \u001b[0;32mIn[15], line 5\u001b[0m\n\u001b[1;32m      3\u001b[0m family_income[\u001b[38;5;124m'\u001b[39m\u001b[38;5;124mfem_no_kid(income)\u001b[39m\u001b[38;5;124m'\u001b[39m] \u001b[38;5;241m=\u001b[39m family_income[\u001b[38;5;124m'\u001b[39m\u001b[38;5;124mfem_no_kid(income)\u001b[39m\u001b[38;5;124m'\u001b[39m]\u001b[38;5;241m.\u001b[39mstr\u001b[38;5;241m.\u001b[39mreplace(\u001b[38;5;124m'\u001b[39m\u001b[38;5;124m,\u001b[39m\u001b[38;5;124m'\u001b[39m, \u001b[38;5;124m'\u001b[39m\u001b[38;5;124m'\u001b[39m)\u001b[38;5;241m.\u001b[39mastype(\u001b[38;5;28mint\u001b[39m)\n\u001b[1;32m      4\u001b[0m family_income[\u001b[38;5;124m'\u001b[39m\u001b[38;5;124mfem_with_kid(income)\u001b[39m\u001b[38;5;124m'\u001b[39m] \u001b[38;5;241m=\u001b[39m family_income[\u001b[38;5;124m'\u001b[39m\u001b[38;5;124mfem_with_kid(income)\u001b[39m\u001b[38;5;124m'\u001b[39m]\u001b[38;5;241m.\u001b[39mstr\u001b[38;5;241m.\u001b[39mreplace(\u001b[38;5;124m'\u001b[39m\u001b[38;5;124m,\u001b[39m\u001b[38;5;124m'\u001b[39m, \u001b[38;5;124m'\u001b[39m\u001b[38;5;124m'\u001b[39m)\u001b[38;5;241m.\u001b[39mastype(\u001b[38;5;28mint\u001b[39m)\n\u001b[0;32m----> 5\u001b[0m family_income[\u001b[38;5;124m'\u001b[39m\u001b[38;5;124mmale_no_kid(income)\u001b[39m\u001b[38;5;124m'\u001b[39m] \u001b[38;5;241m=\u001b[39m family_income[\u001b[38;5;124m'\u001b[39m\u001b[38;5;124mmale_no_kid(income)\u001b[39m\u001b[38;5;124m'\u001b[39m]\u001b[38;5;241m.\u001b[39mstr\u001b[38;5;241m.\u001b[39mreplace(\u001b[38;5;124m'\u001b[39m\u001b[38;5;124m,\u001b[39m\u001b[38;5;124m'\u001b[39m, \u001b[38;5;124m'\u001b[39m\u001b[38;5;124m'\u001b[39m)\u001b[38;5;241m.\u001b[39mastype(\u001b[38;5;28mint\u001b[39m)\n\u001b[1;32m      6\u001b[0m family_income[\u001b[38;5;124m'\u001b[39m\u001b[38;5;124mmale_with_kid(income)\u001b[39m\u001b[38;5;124m'\u001b[39m] \u001b[38;5;241m=\u001b[39m family_income[\u001b[38;5;124m'\u001b[39m\u001b[38;5;124mmale_with_kid(income)\u001b[39m\u001b[38;5;124m'\u001b[39m]\u001b[38;5;241m.\u001b[39mstr\u001b[38;5;241m.\u001b[39mreplace(\u001b[38;5;124m'\u001b[39m\u001b[38;5;124m,\u001b[39m\u001b[38;5;124m'\u001b[39m, \u001b[38;5;124m'\u001b[39m\u001b[38;5;124m'\u001b[39m)\u001b[38;5;241m.\u001b[39mastype(\u001b[38;5;28mint\u001b[39m)\n",
      "File \u001b[0;32m/usr/local/anaconda3/lib/python3.11/site-packages/pandas/core/generic.py:6324\u001b[0m, in \u001b[0;36mNDFrame.astype\u001b[0;34m(self, dtype, copy, errors)\u001b[0m\n\u001b[1;32m   6317\u001b[0m     results \u001b[38;5;241m=\u001b[39m [\n\u001b[1;32m   6318\u001b[0m         \u001b[38;5;28mself\u001b[39m\u001b[38;5;241m.\u001b[39miloc[:, i]\u001b[38;5;241m.\u001b[39mastype(dtype, copy\u001b[38;5;241m=\u001b[39mcopy)\n\u001b[1;32m   6319\u001b[0m         \u001b[38;5;28;01mfor\u001b[39;00m i \u001b[38;5;129;01min\u001b[39;00m \u001b[38;5;28mrange\u001b[39m(\u001b[38;5;28mlen\u001b[39m(\u001b[38;5;28mself\u001b[39m\u001b[38;5;241m.\u001b[39mcolumns))\n\u001b[1;32m   6320\u001b[0m     ]\n\u001b[1;32m   6322\u001b[0m \u001b[38;5;28;01melse\u001b[39;00m:\n\u001b[1;32m   6323\u001b[0m     \u001b[38;5;66;03m# else, only a single dtype is given\u001b[39;00m\n\u001b[0;32m-> 6324\u001b[0m     new_data \u001b[38;5;241m=\u001b[39m \u001b[38;5;28mself\u001b[39m\u001b[38;5;241m.\u001b[39m_mgr\u001b[38;5;241m.\u001b[39mastype(dtype\u001b[38;5;241m=\u001b[39mdtype, copy\u001b[38;5;241m=\u001b[39mcopy, errors\u001b[38;5;241m=\u001b[39merrors)\n\u001b[1;32m   6325\u001b[0m     \u001b[38;5;28;01mreturn\u001b[39;00m \u001b[38;5;28mself\u001b[39m\u001b[38;5;241m.\u001b[39m_constructor(new_data)\u001b[38;5;241m.\u001b[39m__finalize__(\u001b[38;5;28mself\u001b[39m, method\u001b[38;5;241m=\u001b[39m\u001b[38;5;124m\"\u001b[39m\u001b[38;5;124mastype\u001b[39m\u001b[38;5;124m\"\u001b[39m)\n\u001b[1;32m   6327\u001b[0m \u001b[38;5;66;03m# GH 33113: handle empty frame or series\u001b[39;00m\n",
      "File \u001b[0;32m/usr/local/anaconda3/lib/python3.11/site-packages/pandas/core/internals/managers.py:451\u001b[0m, in \u001b[0;36mBaseBlockManager.astype\u001b[0;34m(self, dtype, copy, errors)\u001b[0m\n\u001b[1;32m    448\u001b[0m \u001b[38;5;28;01melif\u001b[39;00m using_copy_on_write():\n\u001b[1;32m    449\u001b[0m     copy \u001b[38;5;241m=\u001b[39m \u001b[38;5;28;01mFalse\u001b[39;00m\n\u001b[0;32m--> 451\u001b[0m \u001b[38;5;28;01mreturn\u001b[39;00m \u001b[38;5;28mself\u001b[39m\u001b[38;5;241m.\u001b[39mapply(\n\u001b[1;32m    452\u001b[0m     \u001b[38;5;124m\"\u001b[39m\u001b[38;5;124mastype\u001b[39m\u001b[38;5;124m\"\u001b[39m,\n\u001b[1;32m    453\u001b[0m     dtype\u001b[38;5;241m=\u001b[39mdtype,\n\u001b[1;32m    454\u001b[0m     copy\u001b[38;5;241m=\u001b[39mcopy,\n\u001b[1;32m    455\u001b[0m     errors\u001b[38;5;241m=\u001b[39merrors,\n\u001b[1;32m    456\u001b[0m     using_cow\u001b[38;5;241m=\u001b[39musing_copy_on_write(),\n\u001b[1;32m    457\u001b[0m )\n",
      "File \u001b[0;32m/usr/local/anaconda3/lib/python3.11/site-packages/pandas/core/internals/managers.py:352\u001b[0m, in \u001b[0;36mBaseBlockManager.apply\u001b[0;34m(self, f, align_keys, **kwargs)\u001b[0m\n\u001b[1;32m    350\u001b[0m         applied \u001b[38;5;241m=\u001b[39m b\u001b[38;5;241m.\u001b[39mapply(f, \u001b[38;5;241m*\u001b[39m\u001b[38;5;241m*\u001b[39mkwargs)\n\u001b[1;32m    351\u001b[0m     \u001b[38;5;28;01melse\u001b[39;00m:\n\u001b[0;32m--> 352\u001b[0m         applied \u001b[38;5;241m=\u001b[39m \u001b[38;5;28mgetattr\u001b[39m(b, f)(\u001b[38;5;241m*\u001b[39m\u001b[38;5;241m*\u001b[39mkwargs)\n\u001b[1;32m    353\u001b[0m     result_blocks \u001b[38;5;241m=\u001b[39m extend_blocks(applied, result_blocks)\n\u001b[1;32m    355\u001b[0m out \u001b[38;5;241m=\u001b[39m \u001b[38;5;28mtype\u001b[39m(\u001b[38;5;28mself\u001b[39m)\u001b[38;5;241m.\u001b[39mfrom_blocks(result_blocks, \u001b[38;5;28mself\u001b[39m\u001b[38;5;241m.\u001b[39maxes)\n",
      "File \u001b[0;32m/usr/local/anaconda3/lib/python3.11/site-packages/pandas/core/internals/blocks.py:511\u001b[0m, in \u001b[0;36mBlock.astype\u001b[0;34m(self, dtype, copy, errors, using_cow)\u001b[0m\n\u001b[1;32m    491\u001b[0m \u001b[38;5;250m\u001b[39m\u001b[38;5;124;03m\"\"\"\u001b[39;00m\n\u001b[1;32m    492\u001b[0m \u001b[38;5;124;03mCoerce to the new dtype.\u001b[39;00m\n\u001b[1;32m    493\u001b[0m \n\u001b[0;32m   (...)\u001b[0m\n\u001b[1;32m    507\u001b[0m \u001b[38;5;124;03mBlock\u001b[39;00m\n\u001b[1;32m    508\u001b[0m \u001b[38;5;124;03m\"\"\"\u001b[39;00m\n\u001b[1;32m    509\u001b[0m values \u001b[38;5;241m=\u001b[39m \u001b[38;5;28mself\u001b[39m\u001b[38;5;241m.\u001b[39mvalues\n\u001b[0;32m--> 511\u001b[0m new_values \u001b[38;5;241m=\u001b[39m astype_array_safe(values, dtype, copy\u001b[38;5;241m=\u001b[39mcopy, errors\u001b[38;5;241m=\u001b[39merrors)\n\u001b[1;32m    513\u001b[0m new_values \u001b[38;5;241m=\u001b[39m maybe_coerce_values(new_values)\n\u001b[1;32m    515\u001b[0m refs \u001b[38;5;241m=\u001b[39m \u001b[38;5;28;01mNone\u001b[39;00m\n",
      "File \u001b[0;32m/usr/local/anaconda3/lib/python3.11/site-packages/pandas/core/dtypes/astype.py:242\u001b[0m, in \u001b[0;36mastype_array_safe\u001b[0;34m(values, dtype, copy, errors)\u001b[0m\n\u001b[1;32m    239\u001b[0m     dtype \u001b[38;5;241m=\u001b[39m dtype\u001b[38;5;241m.\u001b[39mnumpy_dtype\n\u001b[1;32m    241\u001b[0m \u001b[38;5;28;01mtry\u001b[39;00m:\n\u001b[0;32m--> 242\u001b[0m     new_values \u001b[38;5;241m=\u001b[39m astype_array(values, dtype, copy\u001b[38;5;241m=\u001b[39mcopy)\n\u001b[1;32m    243\u001b[0m \u001b[38;5;28;01mexcept\u001b[39;00m (\u001b[38;5;167;01mValueError\u001b[39;00m, \u001b[38;5;167;01mTypeError\u001b[39;00m):\n\u001b[1;32m    244\u001b[0m     \u001b[38;5;66;03m# e.g. _astype_nansafe can fail on object-dtype of strings\u001b[39;00m\n\u001b[1;32m    245\u001b[0m     \u001b[38;5;66;03m#  trying to convert to float\u001b[39;00m\n\u001b[1;32m    246\u001b[0m     \u001b[38;5;28;01mif\u001b[39;00m errors \u001b[38;5;241m==\u001b[39m \u001b[38;5;124m\"\u001b[39m\u001b[38;5;124mignore\u001b[39m\u001b[38;5;124m\"\u001b[39m:\n",
      "File \u001b[0;32m/usr/local/anaconda3/lib/python3.11/site-packages/pandas/core/dtypes/astype.py:187\u001b[0m, in \u001b[0;36mastype_array\u001b[0;34m(values, dtype, copy)\u001b[0m\n\u001b[1;32m    184\u001b[0m     values \u001b[38;5;241m=\u001b[39m values\u001b[38;5;241m.\u001b[39mastype(dtype, copy\u001b[38;5;241m=\u001b[39mcopy)\n\u001b[1;32m    186\u001b[0m \u001b[38;5;28;01melse\u001b[39;00m:\n\u001b[0;32m--> 187\u001b[0m     values \u001b[38;5;241m=\u001b[39m _astype_nansafe(values, dtype, copy\u001b[38;5;241m=\u001b[39mcopy)\n\u001b[1;32m    189\u001b[0m \u001b[38;5;66;03m# in pandas we don't store numpy str dtypes, so convert to object\u001b[39;00m\n\u001b[1;32m    190\u001b[0m \u001b[38;5;28;01mif\u001b[39;00m \u001b[38;5;28misinstance\u001b[39m(dtype, np\u001b[38;5;241m.\u001b[39mdtype) \u001b[38;5;129;01mand\u001b[39;00m \u001b[38;5;28missubclass\u001b[39m(values\u001b[38;5;241m.\u001b[39mdtype\u001b[38;5;241m.\u001b[39mtype, \u001b[38;5;28mstr\u001b[39m):\n",
      "File \u001b[0;32m/usr/local/anaconda3/lib/python3.11/site-packages/pandas/core/dtypes/astype.py:138\u001b[0m, in \u001b[0;36m_astype_nansafe\u001b[0;34m(arr, dtype, copy, skipna)\u001b[0m\n\u001b[1;32m    134\u001b[0m     \u001b[38;5;28;01mraise\u001b[39;00m \u001b[38;5;167;01mValueError\u001b[39;00m(msg)\n\u001b[1;32m    136\u001b[0m \u001b[38;5;28;01mif\u001b[39;00m copy \u001b[38;5;129;01mor\u001b[39;00m is_object_dtype(arr\u001b[38;5;241m.\u001b[39mdtype) \u001b[38;5;129;01mor\u001b[39;00m is_object_dtype(dtype):\n\u001b[1;32m    137\u001b[0m     \u001b[38;5;66;03m# Explicit copy, or required since NumPy can't view from / to object.\u001b[39;00m\n\u001b[0;32m--> 138\u001b[0m     \u001b[38;5;28;01mreturn\u001b[39;00m arr\u001b[38;5;241m.\u001b[39mastype(dtype, copy\u001b[38;5;241m=\u001b[39m\u001b[38;5;28;01mTrue\u001b[39;00m)\n\u001b[1;32m    140\u001b[0m \u001b[38;5;28;01mreturn\u001b[39;00m arr\u001b[38;5;241m.\u001b[39mastype(dtype, copy\u001b[38;5;241m=\u001b[39mcopy)\n",
      "\u001b[0;31mValueError\u001b[0m: invalid literal for int() with base 10: ''"
     ]
    }
   ],
   "source": [
    "family_income['mar_with_kid'] = family_income['mar_with_kid'].str.replace(',', '').astype(int)\n",
    "family_income['mar_no_kid'] = family_income['mar_no_kid'].str.replace(',', '').astype(int)\n",
    "family_income['fem_no_kid(income)'] = family_income['fem_no_kid(income)'].str.replace(',', '').astype(int)\n",
    "family_income['fem_with_kid(income)'] = family_income['fem_with_kid(income)'].str.replace(',', '').astype(int)\n",
    "family_income['male_no_kid(income)'] = family_income['male_no_kid(income)'].str.replace(',', '').astype(int)\n",
    "family_income['male_with_kid(income)'] = family_income['male_with_kid(income)'].str.replace(',', '').astype(int)"
   ]
  },
  {
   "cell_type": "code",
   "execution_count": null,
   "id": "83d6acb9-a3f9-4008-9ade-d039620be505",
   "metadata": {
    "tags": []
   },
   "outputs": [],
   "source": [
    "family_income.head()"
   ]
  },
  {
   "cell_type": "code",
   "execution_count": 15,
   "id": "d98210df-3ade-482b-a7d4-60b449893720",
   "metadata": {
    "tags": []
   },
   "outputs": [
    {
     "data": {
      "text/html": [
       "<div>\n",
       "<style scoped>\n",
       "    .dataframe tbody tr th:only-of-type {\n",
       "        vertical-align: middle;\n",
       "    }\n",
       "\n",
       "    .dataframe tbody tr th {\n",
       "        vertical-align: top;\n",
       "    }\n",
       "\n",
       "    .dataframe thead th {\n",
       "        text-align: right;\n",
       "    }\n",
       "</style>\n",
       "<table border=\"1\" class=\"dataframe\">\n",
       "  <thead>\n",
       "    <tr style=\"text-align: right;\">\n",
       "      <th></th>\n",
       "      <th>fem_total(count)</th>\n",
       "      <th>fem_with_kid(count)</th>\n",
       "      <th>male_total(count)</th>\n",
       "      <th>male_with_kid(count)</th>\n",
       "      <th>fem_no_kid(count)</th>\n",
       "      <th>male_no_kid(count)</th>\n",
       "    </tr>\n",
       "  </thead>\n",
       "  <tbody>\n",
       "    <tr>\n",
       "      <th>Baldwin County, Alabama!!Estimate</th>\n",
       "      <td>22981</td>\n",
       "      <td>4249</td>\n",
       "      <td>13426</td>\n",
       "      <td>950</td>\n",
       "      <td>18732</td>\n",
       "      <td>12476</td>\n",
       "    </tr>\n",
       "    <tr>\n",
       "      <th>Calhoun County, Alabama!!Estimate</th>\n",
       "      <td>15956</td>\n",
       "      <td>3779</td>\n",
       "      <td>9599</td>\n",
       "      <td>318</td>\n",
       "      <td>12177</td>\n",
       "      <td>9281</td>\n",
       "    </tr>\n",
       "    <tr>\n",
       "      <th>Cullman County, Alabama!!Estimate</th>\n",
       "      <td>8584</td>\n",
       "      <td>1402</td>\n",
       "      <td>5554</td>\n",
       "      <td>500</td>\n",
       "      <td>7182</td>\n",
       "      <td>5054</td>\n",
       "    </tr>\n",
       "    <tr>\n",
       "      <th>DeKalb County, Alabama!!Estimate</th>\n",
       "      <td>8026</td>\n",
       "      <td>1343</td>\n",
       "      <td>4541</td>\n",
       "      <td>362</td>\n",
       "      <td>6683</td>\n",
       "      <td>4179</td>\n",
       "    </tr>\n",
       "    <tr>\n",
       "      <th>Elmore County, Alabama!!Estimate</th>\n",
       "      <td>9466</td>\n",
       "      <td>2283</td>\n",
       "      <td>4373</td>\n",
       "      <td>727</td>\n",
       "      <td>7183</td>\n",
       "      <td>3646</td>\n",
       "    </tr>\n",
       "  </tbody>\n",
       "</table>\n",
       "</div>"
      ],
      "text/plain": [
       "                                   fem_total(count)  fem_with_kid(count)  \\\n",
       "Baldwin County, Alabama!!Estimate             22981                 4249   \n",
       "Calhoun County, Alabama!!Estimate             15956                 3779   \n",
       "Cullman County, Alabama!!Estimate              8584                 1402   \n",
       "DeKalb County, Alabama!!Estimate               8026                 1343   \n",
       "Elmore County, Alabama!!Estimate               9466                 2283   \n",
       "\n",
       "                                   male_total(count)  male_with_kid(count)  \\\n",
       "Baldwin County, Alabama!!Estimate              13426                   950   \n",
       "Calhoun County, Alabama!!Estimate               9599                   318   \n",
       "Cullman County, Alabama!!Estimate               5554                   500   \n",
       "DeKalb County, Alabama!!Estimate                4541                   362   \n",
       "Elmore County, Alabama!!Estimate                4373                   727   \n",
       "\n",
       "                                   fem_no_kid(count)  male_no_kid(count)  \n",
       "Baldwin County, Alabama!!Estimate              18732               12476  \n",
       "Calhoun County, Alabama!!Estimate              12177                9281  \n",
       "Cullman County, Alabama!!Estimate               7182                5054  \n",
       "DeKalb County, Alabama!!Estimate                6683                4179  \n",
       "Elmore County, Alabama!!Estimate                7183                3646  "
      ]
     },
     "execution_count": 15,
     "metadata": {},
     "output_type": "execute_result"
    }
   ],
   "source": [
    "family_count.head()"
   ]
  },
  {
   "cell_type": "code",
   "execution_count": 17,
   "id": "e3b243cd-2cd6-4f7b-a55b-8ef9da1518c7",
   "metadata": {
    "tags": []
   },
   "outputs": [],
   "source": [
    "family = pd.concat([family_income, family_count], axis = 1)"
   ]
  },
  {
   "cell_type": "code",
   "execution_count": 19,
   "id": "cbe30ec0-f6bc-4aff-93ba-cf469be30338",
   "metadata": {
    "tags": []
   },
   "outputs": [
    {
     "data": {
      "text/plain": [
       "mar_with_kid             object\n",
       "mar_no_kid               object\n",
       "fem_with_kid(income)     object\n",
       "fem_no_kid(income)       object\n",
       "male_with_kid(income)    object\n",
       "male_no_kid(income)      object\n",
       "fem_total(count)          int64\n",
       "fem_with_kid(count)       int64\n",
       "male_total(count)         int64\n",
       "male_with_kid(count)      int64\n",
       "fem_no_kid(count)         int64\n",
       "male_no_kid(count)        int64\n",
       "dtype: object"
      ]
     },
     "execution_count": 19,
     "metadata": {},
     "output_type": "execute_result"
    }
   ],
   "source": [
    "family.dtypes"
   ]
  }
 ],
 "metadata": {
  "kernelspec": {
   "display_name": "Python 3 (ipykernel)",
   "language": "python",
   "name": "python3"
  },
  "language_info": {
   "codemirror_mode": {
    "name": "ipython",
    "version": 3
   },
   "file_extension": ".py",
   "mimetype": "text/x-python",
   "name": "python",
   "nbconvert_exporter": "python",
   "pygments_lexer": "ipython3",
   "version": "3.11.3"
  }
 },
 "nbformat": 4,
 "nbformat_minor": 5
}
